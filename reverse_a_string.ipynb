{
 "cells": [
  {
   "cell_type": "markdown",
   "id": "9795a921",
   "metadata": {},
   "source": [
    "# Write a Python program to reverse a string"
   ]
  },
  {
   "cell_type": "code",
   "execution_count": 2,
   "id": "4b5a5d05",
   "metadata": {},
   "outputs": [
    {
     "name": "stdout",
     "output_type": "stream",
     "text": [
      "The reverse string is dcba4321\n"
     ]
    }
   ],
   "source": [
    "def rev(str):  #Declaring the function\n",
    "    str1 = \"\"   # Declaring the string\n",
    "    for i in str:  \n",
    "        str1 = i + str1  \n",
    "    return str1      \n",
    "     \n",
    "str = \"1234abcd\"    # Given String       \n",
    "print(\"The reverse string is\",rev(str)) "
   ]
  }
 ],
 "metadata": {
  "kernelspec": {
   "display_name": "Python 3 (ipykernel)",
   "language": "python",
   "name": "python3"
  },
  "language_info": {
   "codemirror_mode": {
    "name": "ipython",
    "version": 3
   },
   "file_extension": ".py",
   "mimetype": "text/x-python",
   "name": "python",
   "nbconvert_exporter": "python",
   "pygments_lexer": "ipython3",
   "version": "3.10.0"
  }
 },
 "nbformat": 4,
 "nbformat_minor": 5
}
